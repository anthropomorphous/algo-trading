{
 "cells": [
  {
   "cell_type": "code",
   "execution_count": 1,
   "metadata": {},
   "outputs": [],
   "source": [
    "import numpy as np\n",
    "import pandas as pd\n",
    "import matplotlib.pyplot as plt\n",
    "%matplotlib inline"
   ]
  },
  {
   "cell_type": "code",
   "execution_count": 2,
   "metadata": {},
   "outputs": [
    {
     "data": {
      "text/html": [
       "<div>\n",
       "<style scoped>\n",
       "    .dataframe tbody tr th:only-of-type {\n",
       "        vertical-align: middle;\n",
       "    }\n",
       "\n",
       "    .dataframe tbody tr th {\n",
       "        vertical-align: top;\n",
       "    }\n",
       "\n",
       "    .dataframe thead th {\n",
       "        text-align: right;\n",
       "    }\n",
       "</style>\n",
       "<table border=\"1\" class=\"dataframe\">\n",
       "  <thead>\n",
       "    <tr style=\"text-align: right;\">\n",
       "      <th></th>\n",
       "      <th>Date</th>\n",
       "      <th>Open</th>\n",
       "      <th>High</th>\n",
       "      <th>Low</th>\n",
       "      <th>Close</th>\n",
       "      <th>Volume</th>\n",
       "    </tr>\n",
       "  </thead>\n",
       "  <tbody>\n",
       "    <tr>\n",
       "      <th>0</th>\n",
       "      <td>2012-01-03</td>\n",
       "      <td>28.94</td>\n",
       "      <td>29.50</td>\n",
       "      <td>27.65</td>\n",
       "      <td>28.08</td>\n",
       "      <td>928052</td>\n",
       "    </tr>\n",
       "    <tr>\n",
       "      <th>1</th>\n",
       "      <td>2012-01-04</td>\n",
       "      <td>28.21</td>\n",
       "      <td>28.67</td>\n",
       "      <td>27.50</td>\n",
       "      <td>27.71</td>\n",
       "      <td>630036</td>\n",
       "    </tr>\n",
       "    <tr>\n",
       "      <th>2</th>\n",
       "      <td>2012-01-05</td>\n",
       "      <td>27.76</td>\n",
       "      <td>27.93</td>\n",
       "      <td>26.85</td>\n",
       "      <td>27.12</td>\n",
       "      <td>1005432</td>\n",
       "    </tr>\n",
       "    <tr>\n",
       "      <th>3</th>\n",
       "      <td>2012-01-06</td>\n",
       "      <td>27.20</td>\n",
       "      <td>27.79</td>\n",
       "      <td>26.41</td>\n",
       "      <td>26.89</td>\n",
       "      <td>687081</td>\n",
       "    </tr>\n",
       "    <tr>\n",
       "      <th>4</th>\n",
       "      <td>2012-01-09</td>\n",
       "      <td>27.00</td>\n",
       "      <td>27.49</td>\n",
       "      <td>26.12</td>\n",
       "      <td>27.25</td>\n",
       "      <td>896951</td>\n",
       "    </tr>\n",
       "  </tbody>\n",
       "</table>\n",
       "</div>"
      ],
      "text/plain": [
       "         Date   Open   High    Low  Close   Volume\n",
       "0  2012-01-03  28.94  29.50  27.65  28.08   928052\n",
       "1  2012-01-04  28.21  28.67  27.50  27.71   630036\n",
       "2  2012-01-05  27.76  27.93  26.85  27.12  1005432\n",
       "3  2012-01-06  27.20  27.79  26.41  26.89   687081\n",
       "4  2012-01-09  27.00  27.49  26.12  27.25   896951"
      ]
     },
     "execution_count": 2,
     "metadata": {},
     "output_type": "execute_result"
    }
   ],
   "source": [
    "df = pd.read_csv('Tesla_Stock.csv')\n",
    "df.head()"
   ]
  },
  {
   "cell_type": "code",
   "execution_count": 3,
   "metadata": {},
   "outputs": [
    {
     "name": "stdout",
     "output_type": "stream",
     "text": [
      "<class 'pandas.core.frame.DataFrame'>\n",
      "RangeIndex: 1258 entries, 0 to 1257\n",
      "Data columns (total 6 columns):\n",
      " #   Column  Non-Null Count  Dtype  \n",
      "---  ------  --------------  -----  \n",
      " 0   Date    1258 non-null   object \n",
      " 1   Open    1258 non-null   float64\n",
      " 2   High    1258 non-null   float64\n",
      " 3   Low     1258 non-null   float64\n",
      " 4   Close   1258 non-null   float64\n",
      " 5   Volume  1258 non-null   int64  \n",
      "dtypes: float64(4), int64(1), object(1)\n",
      "memory usage: 59.1+ KB\n"
     ]
    }
   ],
   "source": [
    "df.info()"
   ]
  },
  {
   "cell_type": "code",
   "execution_count": 5,
   "metadata": {},
   "outputs": [
    {
     "name": "stdout",
     "output_type": "stream",
     "text": [
      "<class 'pandas.core.frame.DataFrame'>\n",
      "RangeIndex: 1258 entries, 0 to 1257\n",
      "Data columns (total 6 columns):\n",
      " #   Column  Non-Null Count  Dtype         \n",
      "---  ------  --------------  -----         \n",
      " 0   Date    1258 non-null   datetime64[ns]\n",
      " 1   Open    1258 non-null   float64       \n",
      " 2   High    1258 non-null   float64       \n",
      " 3   Low     1258 non-null   float64       \n",
      " 4   Close   1258 non-null   float64       \n",
      " 5   Volume  1258 non-null   int64         \n",
      "dtypes: datetime64[ns](1), float64(4), int64(1)\n",
      "memory usage: 59.1 KB\n"
     ]
    }
   ],
   "source": [
    "df['Date'] = pd.to_datetime(df['Date'])\n",
    "df.info()"
   ]
  },
  {
   "cell_type": "code",
   "execution_count": 6,
   "metadata": {},
   "outputs": [],
   "source": [
    "# Or\n",
    "df['Date'] = df['Date'].apply(pd.to_datetime)"
   ]
  },
  {
   "cell_type": "code",
   "execution_count": 7,
   "metadata": {},
   "outputs": [
    {
     "data": {
      "text/html": [
       "<div>\n",
       "<style scoped>\n",
       "    .dataframe tbody tr th:only-of-type {\n",
       "        vertical-align: middle;\n",
       "    }\n",
       "\n",
       "    .dataframe tbody tr th {\n",
       "        vertical-align: top;\n",
       "    }\n",
       "\n",
       "    .dataframe thead th {\n",
       "        text-align: right;\n",
       "    }\n",
       "</style>\n",
       "<table border=\"1\" class=\"dataframe\">\n",
       "  <thead>\n",
       "    <tr style=\"text-align: right;\">\n",
       "      <th></th>\n",
       "      <th>Open</th>\n",
       "      <th>High</th>\n",
       "      <th>Low</th>\n",
       "      <th>Close</th>\n",
       "      <th>Volume</th>\n",
       "    </tr>\n",
       "    <tr>\n",
       "      <th>Date</th>\n",
       "      <th></th>\n",
       "      <th></th>\n",
       "      <th></th>\n",
       "      <th></th>\n",
       "      <th></th>\n",
       "    </tr>\n",
       "  </thead>\n",
       "  <tbody>\n",
       "    <tr>\n",
       "      <th>2012-01-03</th>\n",
       "      <td>28.94</td>\n",
       "      <td>29.50</td>\n",
       "      <td>27.65</td>\n",
       "      <td>28.08</td>\n",
       "      <td>928052</td>\n",
       "    </tr>\n",
       "    <tr>\n",
       "      <th>2012-01-04</th>\n",
       "      <td>28.21</td>\n",
       "      <td>28.67</td>\n",
       "      <td>27.50</td>\n",
       "      <td>27.71</td>\n",
       "      <td>630036</td>\n",
       "    </tr>\n",
       "    <tr>\n",
       "      <th>2012-01-05</th>\n",
       "      <td>27.76</td>\n",
       "      <td>27.93</td>\n",
       "      <td>26.85</td>\n",
       "      <td>27.12</td>\n",
       "      <td>1005432</td>\n",
       "    </tr>\n",
       "    <tr>\n",
       "      <th>2012-01-06</th>\n",
       "      <td>27.20</td>\n",
       "      <td>27.79</td>\n",
       "      <td>26.41</td>\n",
       "      <td>26.89</td>\n",
       "      <td>687081</td>\n",
       "    </tr>\n",
       "    <tr>\n",
       "      <th>2012-01-09</th>\n",
       "      <td>27.00</td>\n",
       "      <td>27.49</td>\n",
       "      <td>26.12</td>\n",
       "      <td>27.25</td>\n",
       "      <td>896951</td>\n",
       "    </tr>\n",
       "  </tbody>\n",
       "</table>\n",
       "</div>"
      ],
      "text/plain": [
       "             Open   High    Low  Close   Volume\n",
       "Date                                           \n",
       "2012-01-03  28.94  29.50  27.65  28.08   928052\n",
       "2012-01-04  28.21  28.67  27.50  27.71   630036\n",
       "2012-01-05  27.76  27.93  26.85  27.12  1005432\n",
       "2012-01-06  27.20  27.79  26.41  26.89   687081\n",
       "2012-01-09  27.00  27.49  26.12  27.25   896951"
      ]
     },
     "execution_count": 7,
     "metadata": {},
     "output_type": "execute_result"
    }
   ],
   "source": [
    "df.set_index('Date', inplace = True)\n",
    "df.head()"
   ]
  },
  {
   "cell_type": "code",
   "execution_count": 8,
   "metadata": {},
   "outputs": [
    {
     "data": {
      "text/plain": [
       "(1258, 5)"
      ]
     },
     "execution_count": 8,
     "metadata": {},
     "output_type": "execute_result"
    }
   ],
   "source": [
    "df.shape"
   ]
  },
  {
   "cell_type": "code",
   "execution_count": 13,
   "metadata": {},
   "outputs": [
    {
     "data": {
      "text/plain": [
       "DatetimeIndex(['2012-01-03', '2012-01-04', '2012-01-05', '2012-01-06',\n",
       "               '2012-01-09', '2012-01-10', '2012-01-11', '2012-01-12',\n",
       "               '2012-01-13', '2012-01-17',\n",
       "               ...\n",
       "               '2016-12-16', '2016-12-19', '2016-12-20', '2016-12-21',\n",
       "               '2016-12-22', '2016-12-23', '2016-12-27', '2016-12-28',\n",
       "               '2016-12-29', '2016-12-30'],\n",
       "              dtype='datetime64[ns]', name='Date', length=1258, freq=None)"
      ]
     },
     "execution_count": 13,
     "metadata": {},
     "output_type": "execute_result"
    }
   ],
   "source": [
    "# Or just\n",
    "df2 = pd.read_csv('Tesla_Stock.csv', index_col = 'Date', parse_dates = True)\n",
    "df2.index"
   ]
  },
  {
   "cell_type": "code",
   "execution_count": 12,
   "metadata": {},
   "outputs": [
    {
     "name": "stdout",
     "output_type": "stream",
     "text": [
      "<class 'pandas.core.frame.DataFrame'>\n",
      "DatetimeIndex: 1258 entries, 2012-01-03 to 2016-12-30\n",
      "Data columns (total 5 columns):\n",
      " #   Column  Non-Null Count  Dtype  \n",
      "---  ------  --------------  -----  \n",
      " 0   Open    1258 non-null   float64\n",
      " 1   High    1258 non-null   float64\n",
      " 2   Low     1258 non-null   float64\n",
      " 3   Close   1258 non-null   float64\n",
      " 4   Volume  1258 non-null   int64  \n",
      "dtypes: float64(4), int64(1)\n",
      "memory usage: 59.0 KB\n"
     ]
    }
   ],
   "source": [
    "df2.info()"
   ]
  },
  {
   "cell_type": "code",
   "execution_count": 16,
   "metadata": {},
   "outputs": [
    {
     "data": {
      "text/html": [
       "<div>\n",
       "<style scoped>\n",
       "    .dataframe tbody tr th:only-of-type {\n",
       "        vertical-align: middle;\n",
       "    }\n",
       "\n",
       "    .dataframe tbody tr th {\n",
       "        vertical-align: top;\n",
       "    }\n",
       "\n",
       "    .dataframe thead th {\n",
       "        text-align: right;\n",
       "    }\n",
       "</style>\n",
       "<table border=\"1\" class=\"dataframe\">\n",
       "  <thead>\n",
       "    <tr style=\"text-align: right;\">\n",
       "      <th></th>\n",
       "      <th>Open</th>\n",
       "      <th>High</th>\n",
       "      <th>Low</th>\n",
       "      <th>Close</th>\n",
       "      <th>Volume</th>\n",
       "    </tr>\n",
       "    <tr>\n",
       "      <th>Date</th>\n",
       "      <th></th>\n",
       "      <th></th>\n",
       "      <th></th>\n",
       "      <th></th>\n",
       "      <th></th>\n",
       "    </tr>\n",
       "  </thead>\n",
       "  <tbody>\n",
       "    <tr>\n",
       "      <th>2012-12-31</th>\n",
       "      <td>31.203120</td>\n",
       "      <td>31.809160</td>\n",
       "      <td>30.545760</td>\n",
       "      <td>31.168600</td>\n",
       "      <td>1.228787e+06</td>\n",
       "    </tr>\n",
       "    <tr>\n",
       "      <th>2013-12-31</th>\n",
       "      <td>104.400714</td>\n",
       "      <td>106.853056</td>\n",
       "      <td>101.779881</td>\n",
       "      <td>104.401349</td>\n",
       "      <td>8.409442e+06</td>\n",
       "    </tr>\n",
       "    <tr>\n",
       "      <th>2014-12-31</th>\n",
       "      <td>223.423333</td>\n",
       "      <td>227.449881</td>\n",
       "      <td>219.214206</td>\n",
       "      <td>223.329008</td>\n",
       "      <td>6.923669e+06</td>\n",
       "    </tr>\n",
       "    <tr>\n",
       "      <th>2015-12-31</th>\n",
       "      <td>229.831270</td>\n",
       "      <td>233.381627</td>\n",
       "      <td>226.270556</td>\n",
       "      <td>230.042738</td>\n",
       "      <td>4.308886e+06</td>\n",
       "    </tr>\n",
       "    <tr>\n",
       "      <th>2016-12-31</th>\n",
       "      <td>210.058413</td>\n",
       "      <td>213.433452</td>\n",
       "      <td>206.285476</td>\n",
       "      <td>209.767262</td>\n",
       "      <td>4.595612e+06</td>\n",
       "    </tr>\n",
       "  </tbody>\n",
       "</table>\n",
       "</div>"
      ],
      "text/plain": [
       "                  Open        High         Low       Close        Volume\n",
       "Date                                                                    \n",
       "2012-12-31   31.203120   31.809160   30.545760   31.168600  1.228787e+06\n",
       "2013-12-31  104.400714  106.853056  101.779881  104.401349  8.409442e+06\n",
       "2014-12-31  223.423333  227.449881  219.214206  223.329008  6.923669e+06\n",
       "2015-12-31  229.831270  233.381627  226.270556  230.042738  4.308886e+06\n",
       "2016-12-31  210.058413  213.433452  206.285476  209.767262  4.595612e+06"
      ]
     },
     "execution_count": 16,
     "metadata": {},
     "output_type": "execute_result"
    }
   ],
   "source": [
    "# Works as GROUP BY\n",
    "# 'A' is for year\n",
    "df.resample(rule = 'A').mean()"
   ]
  },
  {
   "cell_type": "code",
   "execution_count": 17,
   "metadata": {},
   "outputs": [
    {
     "data": {
      "text/html": [
       "<div>\n",
       "<style scoped>\n",
       "    .dataframe tbody tr th:only-of-type {\n",
       "        vertical-align: middle;\n",
       "    }\n",
       "\n",
       "    .dataframe tbody tr th {\n",
       "        vertical-align: top;\n",
       "    }\n",
       "\n",
       "    .dataframe thead th {\n",
       "        text-align: right;\n",
       "    }\n",
       "</style>\n",
       "<table border=\"1\" class=\"dataframe\">\n",
       "  <thead>\n",
       "    <tr style=\"text-align: right;\">\n",
       "      <th></th>\n",
       "      <th>Open</th>\n",
       "      <th>High</th>\n",
       "      <th>Low</th>\n",
       "      <th>Close</th>\n",
       "      <th>Volume</th>\n",
       "    </tr>\n",
       "    <tr>\n",
       "      <th>Date</th>\n",
       "      <th></th>\n",
       "      <th></th>\n",
       "      <th></th>\n",
       "      <th></th>\n",
       "      <th></th>\n",
       "    </tr>\n",
       "  </thead>\n",
       "  <tbody>\n",
       "    <tr>\n",
       "      <th>2012-03-31</th>\n",
       "      <td>31.909355</td>\n",
       "      <td>32.529677</td>\n",
       "      <td>31.230968</td>\n",
       "      <td>31.940645</td>\n",
       "      <td>1.139994e+06</td>\n",
       "    </tr>\n",
       "    <tr>\n",
       "      <th>2012-06-30</th>\n",
       "      <td>31.764444</td>\n",
       "      <td>32.373333</td>\n",
       "      <td>30.963810</td>\n",
       "      <td>31.587778</td>\n",
       "      <td>1.318731e+06</td>\n",
       "    </tr>\n",
       "    <tr>\n",
       "      <th>2012-09-30</th>\n",
       "      <td>29.839524</td>\n",
       "      <td>30.492857</td>\n",
       "      <td>29.201587</td>\n",
       "      <td>29.788730</td>\n",
       "      <td>1.433835e+06</td>\n",
       "    </tr>\n",
       "    <tr>\n",
       "      <th>2012-12-31</th>\n",
       "      <td>31.312097</td>\n",
       "      <td>31.852903</td>\n",
       "      <td>30.801613</td>\n",
       "      <td>31.372742</td>\n",
       "      <td>1.017830e+06</td>\n",
       "    </tr>\n",
       "    <tr>\n",
       "      <th>2013-03-31</th>\n",
       "      <td>36.525500</td>\n",
       "      <td>37.104333</td>\n",
       "      <td>35.954500</td>\n",
       "      <td>36.496833</td>\n",
       "      <td>1.706488e+06</td>\n",
       "    </tr>\n",
       "    <tr>\n",
       "      <th>2013-06-30</th>\n",
       "      <td>75.069063</td>\n",
       "      <td>77.680625</td>\n",
       "      <td>72.714063</td>\n",
       "      <td>75.274531</td>\n",
       "      <td>9.250441e+06</td>\n",
       "    </tr>\n",
       "    <tr>\n",
       "      <th>2013-09-30</th>\n",
       "      <td>147.818125</td>\n",
       "      <td>151.056250</td>\n",
       "      <td>144.806563</td>\n",
       "      <td>148.403281</td>\n",
       "      <td>1.031537e+07</td>\n",
       "    </tr>\n",
       "    <tr>\n",
       "      <th>2013-12-31</th>\n",
       "      <td>153.947969</td>\n",
       "      <td>157.211719</td>\n",
       "      <td>149.530313</td>\n",
       "      <td>153.186719</td>\n",
       "      <td>1.194654e+07</td>\n",
       "    </tr>\n",
       "    <tr>\n",
       "      <th>2014-03-31</th>\n",
       "      <td>201.482787</td>\n",
       "      <td>205.743443</td>\n",
       "      <td>196.558689</td>\n",
       "      <td>200.911639</td>\n",
       "      <td>9.480115e+06</td>\n",
       "    </tr>\n",
       "    <tr>\n",
       "      <th>2014-06-30</th>\n",
       "      <td>208.505238</td>\n",
       "      <td>213.263016</td>\n",
       "      <td>204.491587</td>\n",
       "      <td>209.206667</td>\n",
       "      <td>6.723579e+06</td>\n",
       "    </tr>\n",
       "    <tr>\n",
       "      <th>2014-09-30</th>\n",
       "      <td>247.775156</td>\n",
       "      <td>251.392031</td>\n",
       "      <td>244.045312</td>\n",
       "      <td>247.529219</td>\n",
       "      <td>5.561134e+06</td>\n",
       "    </tr>\n",
       "    <tr>\n",
       "      <th>2014-12-31</th>\n",
       "      <td>234.668594</td>\n",
       "      <td>238.161875</td>\n",
       "      <td>230.469219</td>\n",
       "      <td>234.397031</td>\n",
       "      <td>6.046556e+06</td>\n",
       "    </tr>\n",
       "    <tr>\n",
       "      <th>2015-03-31</th>\n",
       "      <td>202.320328</td>\n",
       "      <td>205.583770</td>\n",
       "      <td>198.993607</td>\n",
       "      <td>202.486393</td>\n",
       "      <td>5.244534e+06</td>\n",
       "    </tr>\n",
       "    <tr>\n",
       "      <th>2015-06-30</th>\n",
       "      <td>236.241111</td>\n",
       "      <td>239.761746</td>\n",
       "      <td>233.922381</td>\n",
       "      <td>237.179048</td>\n",
       "      <td>4.024539e+06</td>\n",
       "    </tr>\n",
       "    <tr>\n",
       "      <th>2015-09-30</th>\n",
       "      <td>254.835000</td>\n",
       "      <td>258.886562</td>\n",
       "      <td>250.316875</td>\n",
       "      <td>254.871563</td>\n",
       "      <td>4.299813e+06</td>\n",
       "    </tr>\n",
       "    <tr>\n",
       "      <th>2015-12-31</th>\n",
       "      <td>224.739219</td>\n",
       "      <td>228.091094</td>\n",
       "      <td>220.690312</td>\n",
       "      <td>224.453750</td>\n",
       "      <td>3.706073e+06</td>\n",
       "    </tr>\n",
       "    <tr>\n",
       "      <th>2016-03-31</th>\n",
       "      <td>197.680820</td>\n",
       "      <td>201.963770</td>\n",
       "      <td>192.289344</td>\n",
       "      <td>197.300328</td>\n",
       "      <td>5.130425e+06</td>\n",
       "    </tr>\n",
       "    <tr>\n",
       "      <th>2016-06-30</th>\n",
       "      <td>227.760625</td>\n",
       "      <td>231.530156</td>\n",
       "      <td>223.603125</td>\n",
       "      <td>227.279844</td>\n",
       "      <td>5.611264e+06</td>\n",
       "    </tr>\n",
       "    <tr>\n",
       "      <th>2016-09-30</th>\n",
       "      <td>216.649531</td>\n",
       "      <td>219.356719</td>\n",
       "      <td>214.019844</td>\n",
       "      <td>216.575781</td>\n",
       "      <td>3.234445e+06</td>\n",
       "    </tr>\n",
       "    <tr>\n",
       "      <th>2016-12-31</th>\n",
       "      <td>197.364127</td>\n",
       "      <td>200.137778</td>\n",
       "      <td>194.387619</td>\n",
       "      <td>197.131270</td>\n",
       "      <td>4.428778e+06</td>\n",
       "    </tr>\n",
       "  </tbody>\n",
       "</table>\n",
       "</div>"
      ],
      "text/plain": [
       "                  Open        High         Low       Close        Volume\n",
       "Date                                                                    \n",
       "2012-03-31   31.909355   32.529677   31.230968   31.940645  1.139994e+06\n",
       "2012-06-30   31.764444   32.373333   30.963810   31.587778  1.318731e+06\n",
       "2012-09-30   29.839524   30.492857   29.201587   29.788730  1.433835e+06\n",
       "2012-12-31   31.312097   31.852903   30.801613   31.372742  1.017830e+06\n",
       "2013-03-31   36.525500   37.104333   35.954500   36.496833  1.706488e+06\n",
       "2013-06-30   75.069063   77.680625   72.714063   75.274531  9.250441e+06\n",
       "2013-09-30  147.818125  151.056250  144.806563  148.403281  1.031537e+07\n",
       "2013-12-31  153.947969  157.211719  149.530313  153.186719  1.194654e+07\n",
       "2014-03-31  201.482787  205.743443  196.558689  200.911639  9.480115e+06\n",
       "2014-06-30  208.505238  213.263016  204.491587  209.206667  6.723579e+06\n",
       "2014-09-30  247.775156  251.392031  244.045312  247.529219  5.561134e+06\n",
       "2014-12-31  234.668594  238.161875  230.469219  234.397031  6.046556e+06\n",
       "2015-03-31  202.320328  205.583770  198.993607  202.486393  5.244534e+06\n",
       "2015-06-30  236.241111  239.761746  233.922381  237.179048  4.024539e+06\n",
       "2015-09-30  254.835000  258.886562  250.316875  254.871563  4.299813e+06\n",
       "2015-12-31  224.739219  228.091094  220.690312  224.453750  3.706073e+06\n",
       "2016-03-31  197.680820  201.963770  192.289344  197.300328  5.130425e+06\n",
       "2016-06-30  227.760625  231.530156  223.603125  227.279844  5.611264e+06\n",
       "2016-09-30  216.649531  219.356719  214.019844  216.575781  3.234445e+06\n",
       "2016-12-31  197.364127  200.137778  194.387619  197.131270  4.428778e+06"
      ]
     },
     "execution_count": 17,
     "metadata": {},
     "output_type": "execute_result"
    }
   ],
   "source": [
    "df.resample(rule = 'Q').mean()"
   ]
  },
  {
   "cell_type": "code",
   "execution_count": 18,
   "metadata": {},
   "outputs": [
    {
     "data": {
      "text/html": [
       "<div>\n",
       "<style scoped>\n",
       "    .dataframe tbody tr th:only-of-type {\n",
       "        vertical-align: middle;\n",
       "    }\n",
       "\n",
       "    .dataframe tbody tr th {\n",
       "        vertical-align: top;\n",
       "    }\n",
       "\n",
       "    .dataframe thead th {\n",
       "        text-align: right;\n",
       "    }\n",
       "</style>\n",
       "<table border=\"1\" class=\"dataframe\">\n",
       "  <thead>\n",
       "    <tr style=\"text-align: right;\">\n",
       "      <th></th>\n",
       "      <th>Open</th>\n",
       "      <th>High</th>\n",
       "      <th>Low</th>\n",
       "      <th>Close</th>\n",
       "      <th>Volume</th>\n",
       "    </tr>\n",
       "    <tr>\n",
       "      <th>Date</th>\n",
       "      <th></th>\n",
       "      <th></th>\n",
       "      <th></th>\n",
       "      <th></th>\n",
       "      <th></th>\n",
       "    </tr>\n",
       "  </thead>\n",
       "  <tbody>\n",
       "    <tr>\n",
       "      <th>2012-12-31</th>\n",
       "      <td>38.19</td>\n",
       "      <td>39.95</td>\n",
       "      <td>37.11</td>\n",
       "      <td>38.01</td>\n",
       "      <td>5684952</td>\n",
       "    </tr>\n",
       "    <tr>\n",
       "      <th>2013-12-31</th>\n",
       "      <td>193.96</td>\n",
       "      <td>194.50</td>\n",
       "      <td>188.37</td>\n",
       "      <td>193.37</td>\n",
       "      <td>37163898</td>\n",
       "    </tr>\n",
       "    <tr>\n",
       "      <th>2014-12-31</th>\n",
       "      <td>287.67</td>\n",
       "      <td>291.42</td>\n",
       "      <td>280.40</td>\n",
       "      <td>286.04</td>\n",
       "      <td>32797000</td>\n",
       "    </tr>\n",
       "    <tr>\n",
       "      <th>2015-12-31</th>\n",
       "      <td>280.20</td>\n",
       "      <td>286.65</td>\n",
       "      <td>276.30</td>\n",
       "      <td>282.26</td>\n",
       "      <td>15649607</td>\n",
       "    </tr>\n",
       "    <tr>\n",
       "      <th>2016-12-31</th>\n",
       "      <td>266.45</td>\n",
       "      <td>269.34</td>\n",
       "      <td>254.51</td>\n",
       "      <td>265.42</td>\n",
       "      <td>23742414</td>\n",
       "    </tr>\n",
       "  </tbody>\n",
       "</table>\n",
       "</div>"
      ],
      "text/plain": [
       "              Open    High     Low   Close    Volume\n",
       "Date                                                \n",
       "2012-12-31   38.19   39.95   37.11   38.01   5684952\n",
       "2013-12-31  193.96  194.50  188.37  193.37  37163898\n",
       "2014-12-31  287.67  291.42  280.40  286.04  32797000\n",
       "2015-12-31  280.20  286.65  276.30  282.26  15649607\n",
       "2016-12-31  266.45  269.34  254.51  265.42  23742414"
      ]
     },
     "execution_count": 18,
     "metadata": {},
     "output_type": "execute_result"
    }
   ],
   "source": [
    "df.resample(rule = 'A').max()"
   ]
  },
  {
   "cell_type": "code",
   "execution_count": 19,
   "metadata": {},
   "outputs": [],
   "source": [
    "def first_day(entry):\n",
    "    return entry[0]"
   ]
  },
  {
   "cell_type": "code",
   "execution_count": 21,
   "metadata": {},
   "outputs": [
    {
     "data": {
      "text/html": [
       "<div>\n",
       "<style scoped>\n",
       "    .dataframe tbody tr th:only-of-type {\n",
       "        vertical-align: middle;\n",
       "    }\n",
       "\n",
       "    .dataframe tbody tr th {\n",
       "        vertical-align: top;\n",
       "    }\n",
       "\n",
       "    .dataframe thead th {\n",
       "        text-align: right;\n",
       "    }\n",
       "</style>\n",
       "<table border=\"1\" class=\"dataframe\">\n",
       "  <thead>\n",
       "    <tr style=\"text-align: right;\">\n",
       "      <th></th>\n",
       "      <th>Open</th>\n",
       "      <th>High</th>\n",
       "      <th>Low</th>\n",
       "      <th>Close</th>\n",
       "      <th>Volume</th>\n",
       "    </tr>\n",
       "    <tr>\n",
       "      <th>Date</th>\n",
       "      <th></th>\n",
       "      <th></th>\n",
       "      <th></th>\n",
       "      <th></th>\n",
       "      <th></th>\n",
       "    </tr>\n",
       "  </thead>\n",
       "  <tbody>\n",
       "    <tr>\n",
       "      <th>2012-12-31</th>\n",
       "      <td>28.94</td>\n",
       "      <td>29.50</td>\n",
       "      <td>27.65</td>\n",
       "      <td>28.08</td>\n",
       "      <td>928052</td>\n",
       "    </tr>\n",
       "    <tr>\n",
       "      <th>2013-12-31</th>\n",
       "      <td>35.00</td>\n",
       "      <td>35.45</td>\n",
       "      <td>34.70</td>\n",
       "      <td>35.36</td>\n",
       "      <td>1194710</td>\n",
       "    </tr>\n",
       "    <tr>\n",
       "      <th>2014-12-31</th>\n",
       "      <td>149.80</td>\n",
       "      <td>152.48</td>\n",
       "      <td>146.55</td>\n",
       "      <td>150.10</td>\n",
       "      <td>6195355</td>\n",
       "    </tr>\n",
       "    <tr>\n",
       "      <th>2015-12-31</th>\n",
       "      <td>222.87</td>\n",
       "      <td>223.25</td>\n",
       "      <td>213.26</td>\n",
       "      <td>219.31</td>\n",
       "      <td>4764443</td>\n",
       "    </tr>\n",
       "    <tr>\n",
       "      <th>2016-12-31</th>\n",
       "      <td>230.72</td>\n",
       "      <td>231.38</td>\n",
       "      <td>219.00</td>\n",
       "      <td>223.41</td>\n",
       "      <td>6819737</td>\n",
       "    </tr>\n",
       "  </tbody>\n",
       "</table>\n",
       "</div>"
      ],
      "text/plain": [
       "              Open    High     Low   Close   Volume\n",
       "Date                                               \n",
       "2012-12-31   28.94   29.50   27.65   28.08   928052\n",
       "2013-12-31   35.00   35.45   34.70   35.36  1194710\n",
       "2014-12-31  149.80  152.48  146.55  150.10  6195355\n",
       "2015-12-31  222.87  223.25  213.26  219.31  4764443\n",
       "2016-12-31  230.72  231.38  219.00  223.41  6819737"
      ]
     },
     "execution_count": 21,
     "metadata": {},
     "output_type": "execute_result"
    }
   ],
   "source": [
    "df.resample('A').apply(first_day)"
   ]
  },
  {
   "cell_type": "code",
   "execution_count": 22,
   "metadata": {},
   "outputs": [
    {
     "data": {
      "text/plain": [
       "<matplotlib.axes._subplots.AxesSubplot at 0x2116e4991c0>"
      ]
     },
     "execution_count": 22,
     "metadata": {},
     "output_type": "execute_result"
    },
    {
     "data": {
      "image/png": "[encoded data removed]",
      "text/plain": [
       "<Figure size 432x288 with 1 Axes>"
      ]
     },
     "metadata": {
      "needs_background": "light"
     },
     "output_type": "display_data"
    }
   ],
   "source": [
    "# Average for \"Close\" values by year\n",
    "\n",
    "df['Close'].resample('A').mean().plot(kind = 'bar')"
   ]
  },
  {
   "cell_type": "code",
   "execution_count": 25,
   "metadata": {},
   "outputs": [
    {
     "data": {
      "text/plain": [
       "<matplotlib.axes._subplots.AxesSubplot at 0x2116ed817f0>"
      ]
     },
     "execution_count": 25,
     "metadata": {},
     "output_type": "execute_result"
    },
    {
     "data": {
      "image/png": "[encoded data removed]",
      "text/plain": [
       "<Figure size 432x288 with 1 Axes>"
      ]
     },
     "metadata": {
      "needs_background": "light"
     },
     "output_type": "display_data"
    }
   ],
   "source": [
    "# And by month\n",
    "df['Close'].resample('M').mean().plot(kind = 'bar')"
   ]
  },
  {
   "cell_type": "code",
   "execution_count": 26,
   "metadata": {},
   "outputs": [
    {
     "data": {
      "text/plain": [
       "<matplotlib.axes._subplots.AxesSubplot at 0x2116efc8370>"
      ]
     },
     "execution_count": 26,
     "metadata": {},
     "output_type": "execute_result"
    },
    {
     "data": {
      "image/png": "[encoded data removed]",
      "text/plain": [
       "<Figure size 1152x432 with 1 Axes>"
      ]
     },
     "metadata": {
      "needs_background": "light"
     },
     "output_type": "display_data"
    }
   ],
   "source": [
    "df['Close'].resample('M').mean().plot(kind = 'bar', figsize = (16, 6))"
   ]
  },
  {
   "cell_type": "code",
   "execution_count": null,
   "metadata": {},
   "outputs": [],
   "source": []
  }
 ],
 "metadata": {
  "kernelspec": {
   "display_name": "Python 3",
   "language": "python",
   "name": "python3"
  },
  "language_info": {
   "codemirror_mode": {
    "name": "ipython",
    "version": 3
   },
   "file_extension": ".py",
   "mimetype": "text/x-python",
   "name": "python",
   "nbconvert_exporter": "python",
   "pygments_lexer": "ipython3",
   "version": "3.8.3"
  }
 },
 "nbformat": 4,
 "nbformat_minor": 4
}
