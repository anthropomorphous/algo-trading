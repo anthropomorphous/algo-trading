{
 "cells": [
  {
   "cell_type": "code",
   "execution_count": 14,
   "metadata": {},
   "outputs": [],
   "source": [
    "#pip install --upgrade mplfinance"
   ]
  },
  {
   "cell_type": "code",
   "execution_count": 16,
   "metadata": {},
   "outputs": [],
   "source": [
    "import numpy as np\n",
    "import pandas as pd\n",
    "import matplotlib.pyplot as plt\n",
    "\n",
    "import pandas_datareader\n",
    "import datetime\n",
    "import pandas_datareader.data as web\n",
    "\n",
    "%matplotlib inline\n",
    "\n",
    "from mplfinance.original_flavor import candlestick_ohlc\n",
    "from matplotlib.dates import DateFormatter, date2num, WeekdayLocator, DayLocator, MONDAY"
   ]
  },
  {
   "cell_type": "code",
   "execution_count": 2,
   "metadata": {},
   "outputs": [],
   "source": [
    "start = datetime.datetime(2012,1,1)\n",
    "end = datetime.datetime(2020,1,1)"
   ]
  },
  {
   "cell_type": "code",
   "execution_count": 4,
   "metadata": {},
   "outputs": [],
   "source": [
    "tesla = web.DataReader('TSLA', 'yahoo', start,end)\n",
    "ford = web.DataReader('F', 'yahoo', start, end)\n",
    "genmot = web.DataReader('GM', 'yahoo', start, end)"
   ]
  },
  {
   "cell_type": "code",
   "execution_count": 18,
   "metadata": {},
   "outputs": [],
   "source": [
    "ford_reset = ford.loc['2012-01'].reset_index()"
   ]
  },
  {
   "cell_type": "code",
   "execution_count": 19,
   "metadata": {},
   "outputs": [
    {
     "name": "stdout",
     "output_type": "stream",
     "text": [
      "<class 'pandas.core.frame.DataFrame'>\n",
      "RangeIndex: 20 entries, 0 to 19\n",
      "Data columns (total 7 columns):\n",
      " #   Column     Non-Null Count  Dtype         \n",
      "---  ------     --------------  -----         \n",
      " 0   Date       20 non-null     datetime64[ns]\n",
      " 1   High       20 non-null     float64       \n",
      " 2   Low        20 non-null     float64       \n",
      " 3   Open       20 non-null     float64       \n",
      " 4   Close      20 non-null     float64       \n",
      " 5   Volume     20 non-null     float64       \n",
      " 6   Adj Close  20 non-null     float64       \n",
      "dtypes: datetime64[ns](1), float64(6)\n",
      "memory usage: 1.2 KB\n"
     ]
    }
   ],
   "source": [
    "ford_reset.info()"
   ]
  },
  {
   "cell_type": "code",
   "execution_count": 20,
   "metadata": {},
   "outputs": [],
   "source": [
    "ford_reset['date_ax'] = ford_reset['Date'].apply(lambda date: date2num(date))"
   ]
  },
  {
   "cell_type": "code",
   "execution_count": 21,
   "metadata": {},
   "outputs": [
    {
     "data": {
      "text/html": [
       "<div>\n",
       "<style scoped>\n",
       "    .dataframe tbody tr th:only-of-type {\n",
       "        vertical-align: middle;\n",
       "    }\n",
       "\n",
       "    .dataframe tbody tr th {\n",
       "        vertical-align: top;\n",
       "    }\n",
       "\n",
       "    .dataframe thead th {\n",
       "        text-align: right;\n",
       "    }\n",
       "</style>\n",
       "<table border=\"1\" class=\"dataframe\">\n",
       "  <thead>\n",
       "    <tr style=\"text-align: right;\">\n",
       "      <th></th>\n",
       "      <th>Date</th>\n",
       "      <th>High</th>\n",
       "      <th>Low</th>\n",
       "      <th>Open</th>\n",
       "      <th>Close</th>\n",
       "      <th>Volume</th>\n",
       "      <th>Adj Close</th>\n",
       "      <th>date_ax</th>\n",
       "    </tr>\n",
       "  </thead>\n",
       "  <tbody>\n",
       "    <tr>\n",
       "      <th>0</th>\n",
       "      <td>2012-01-03</td>\n",
       "      <td>11.25</td>\n",
       "      <td>10.99</td>\n",
       "      <td>11.00</td>\n",
       "      <td>11.13</td>\n",
       "      <td>45709900.0</td>\n",
       "      <td>7.511252</td>\n",
       "      <td>734505.0</td>\n",
       "    </tr>\n",
       "    <tr>\n",
       "      <th>1</th>\n",
       "      <td>2012-01-04</td>\n",
       "      <td>11.53</td>\n",
       "      <td>11.07</td>\n",
       "      <td>11.15</td>\n",
       "      <td>11.30</td>\n",
       "      <td>79725200.0</td>\n",
       "      <td>7.625980</td>\n",
       "      <td>734506.0</td>\n",
       "    </tr>\n",
       "    <tr>\n",
       "      <th>2</th>\n",
       "      <td>2012-01-05</td>\n",
       "      <td>11.63</td>\n",
       "      <td>11.24</td>\n",
       "      <td>11.33</td>\n",
       "      <td>11.59</td>\n",
       "      <td>67877500.0</td>\n",
       "      <td>7.821692</td>\n",
       "      <td>734507.0</td>\n",
       "    </tr>\n",
       "    <tr>\n",
       "      <th>3</th>\n",
       "      <td>2012-01-06</td>\n",
       "      <td>11.80</td>\n",
       "      <td>11.52</td>\n",
       "      <td>11.74</td>\n",
       "      <td>11.71</td>\n",
       "      <td>59840700.0</td>\n",
       "      <td>7.902675</td>\n",
       "      <td>734508.0</td>\n",
       "    </tr>\n",
       "    <tr>\n",
       "      <th>4</th>\n",
       "      <td>2012-01-09</td>\n",
       "      <td>11.95</td>\n",
       "      <td>11.70</td>\n",
       "      <td>11.83</td>\n",
       "      <td>11.80</td>\n",
       "      <td>53981500.0</td>\n",
       "      <td>7.963414</td>\n",
       "      <td>734511.0</td>\n",
       "    </tr>\n",
       "  </tbody>\n",
       "</table>\n",
       "</div>"
      ],
      "text/plain": [
       "        Date   High    Low   Open  Close      Volume  Adj Close   date_ax\n",
       "0 2012-01-03  11.25  10.99  11.00  11.13  45709900.0   7.511252  734505.0\n",
       "1 2012-01-04  11.53  11.07  11.15  11.30  79725200.0   7.625980  734506.0\n",
       "2 2012-01-05  11.63  11.24  11.33  11.59  67877500.0   7.821692  734507.0\n",
       "3 2012-01-06  11.80  11.52  11.74  11.71  59840700.0   7.902675  734508.0\n",
       "4 2012-01-09  11.95  11.70  11.83  11.80  53981500.0   7.963414  734511.0"
      ]
     },
     "execution_count": 21,
     "metadata": {},
     "output_type": "execute_result"
    }
   ],
   "source": [
    "# so date_ax is numerical value now\n",
    "\n",
    "ford_reset.head()"
   ]
  },
  {
   "cell_type": "code",
   "execution_count": 24,
   "metadata": {},
   "outputs": [],
   "source": [
    "# create an array of tuple values\n",
    "\n",
    "list_of_columns = ['date_ax', 'Open', 'High', 'Low', 'Close']\n",
    "\n",
    "ford_values = [tuple(vals) for vals in ford_reset[list_of_columns].values]"
   ]
  },
  {
   "cell_type": "code",
   "execution_count": 32,
   "metadata": {},
   "outputs": [],
   "source": [
    "mondays = WeekdayLocator(MONDAY) # major ticks on mondays\n",
    "alldays = DayLocator() # minor ticks on the days\n",
    "weekFormatter = DateFormatter('%b %d') # e.g., Jan 12\n",
    "dayFormatter = DateFormatter('%d') # e.g., 12"
   ]
  },
  {
   "cell_type": "code",
   "execution_count": 33,
   "metadata": {},
   "outputs": [
    {
     "data": {
      "image/png": "[encoded data removed]",
      "text/plain": [
       "<Figure size 432x288 with 1 Axes>"
      ]
     },
     "metadata": {
      "needs_background": "light"
     },
     "output_type": "display_data"
    }
   ],
   "source": [
    "fig, ax = plt.subplots()\n",
    "fig.subplots_adjust(bottom=0.2)\n",
    "ax.xaxis.set_major_locator(mondays)\n",
    "ax.xaxis.set_minor_locator(alldays)\n",
    "ax.xaxis.set_major_formatter(weekFormatter)\n",
    "\n",
    "candlestick_ohlc(ax, ford_values, width=0.6,colorup='g', colordown='r');"
   ]
  },
  {
   "cell_type": "code",
   "execution_count": null,
   "metadata": {},
   "outputs": [],
   "source": []
  }
 ],
 "metadata": {
  "kernelspec": {
   "display_name": "Python 3",
   "language": "python",
   "name": "python3"
  },
  "language_info": {
   "codemirror_mode": {
    "name": "ipython",
    "version": 3
   },
   "file_extension": ".py",
   "mimetype": "text/x-python",
   "name": "python",
   "nbconvert_exporter": "python",
   "pygments_lexer": "ipython3",
   "version": "3.8.3"
  }
 },
 "nbformat": 4,
 "nbformat_minor": 4
}
